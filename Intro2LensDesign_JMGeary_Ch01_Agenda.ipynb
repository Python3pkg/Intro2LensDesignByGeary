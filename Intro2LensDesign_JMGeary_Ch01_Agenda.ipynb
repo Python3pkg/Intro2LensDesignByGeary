{
 "metadata": {
  "name": "",
  "signature": "sha256:1eb0695f3a8eaec9c097251f747d6be5536dc188bf28bf6470c306e92166e853"
 },
 "nbformat": 3,
 "nbformat_minor": 0,
 "worksheets": [
  {
   "cells": [
    {
     "cell_type": "heading",
     "level": 1,
     "metadata": {},
     "source": [
      "Chapter 01: Agenda"
     ]
    },
    {
     "cell_type": "heading",
     "level": 2,
     "metadata": {},
     "source": [
      "Formula for Optical Power"
     ]
    },
    {
     "cell_type": "markdown",
     "metadata": {},
     "source": [
      "Optical power of a curved surface (or a single lens approximated as a thin lens)\n",
      "\n",
      "$$\n",
      "f = \\frac{1}{\\phi}\n",
      "$$\n",
      "\n",
      "where, $\\phi = (n_2 - n_1)c$ is the optical power, $c$ is curvature. $n_1$ and $n_2$ are the refractive indices.\n",
      "\n",
      "\n",
      "So, from above we can see that:\n",
      "\n",
      "1. The refractive power is proportional to the **change** in refractive index. Between an air-glass boundary, the refractive power, $\\frac{1}{f} \\propto (1-n)$\n",
      "2. Power is proportional to the curvature, $c$, of a surface. \n",
      "\n",
      "\n",
      "Questions?\n",
      "\n",
      "1. What is the difference in the magnitude of the curvature of between a small sphere and a large sphere? Which one has greater power?\n",
      "\n",
      "2. What is the curvature of a plane surface? What is its power? What is its focal length?"
     ]
    },
    {
     "cell_type": "markdown",
     "metadata": {},
     "source": [
      "The optical power of two curved surfaces separated by a distance/ thickness $t$ is given as:\n",
      "\n",
      "$$\n",
      "\\phi = \\phi_1 + \\phi_2 - \\frac{\\phi_1 \\phi_2 }{n} t\n",
      "$$"
     ]
    },
    {
     "cell_type": "heading",
     "level": 2,
     "metadata": {},
     "source": [
      "Section 1.3 (Homework)"
     ]
    },
    {
     "cell_type": "heading",
     "level": 4,
     "metadata": {},
     "source": [
      "(a).  Effective focal length (EFL)"
     ]
    },
    {
     "cell_type": "markdown",
     "metadata": {},
     "source": [
      "Let $r$ be the semi-diameter of the lens. Then, from the figure, $r = 200$ mm. Also, since the f/# for the marginal ray converging at the focal point (for $U=0 ^o$) is 10:\n",
      "\n",
      "$$\n",
      "\\frac{f}{2 r} = 10 = \\frac{f}{40} \\implies f = 400 mm \n",
      "$$"
     ]
    },
    {
     "cell_type": "heading",
     "level": 4,
     "metadata": {},
     "source": [
      "(b) Lens power, $\\phi$"
     ]
    },
    {
     "cell_type": "markdown",
     "metadata": {},
     "source": [
      "Optical power, $\\phi = \\frac{1}{f} $"
     ]
    },
    {
     "cell_type": "code",
     "collapsed": false,
     "input": [
      "from __future__ import print_function\n",
      "phi = 1.0/400 #  phi = 1.0/f\n",
      "print(phi, \"mm-1\")"
     ],
     "language": "python",
     "metadata": {},
     "outputs": [
      {
       "output_type": "stream",
       "stream": "stdout",
       "text": [
        "0.0025 mm-1\n"
       ]
      }
     ],
     "prompt_number": 2
    },
    {
     "cell_type": "heading",
     "level": 4,
     "metadata": {},
     "source": [
      "(c) Surface curvatures $c_1$ and $c_2$ (assume equiconvex)"
     ]
    },
    {
     "cell_type": "markdown",
     "metadata": {},
     "source": [
      "Under paraxial assumption,\n",
      "\n",
      "$$\n",
      "\\begin{array}{ll}\n",
      "\\frac{1}{f} &= (n-1)\\left(\\frac{1}{R_1} - \\frac{1}{R_2}\\right) \\\\\n",
      "&=(n-1)(c_1 - c_2)\n",
      "\\end{array}\n",
      "$$\n",
      "\n",
      "Since the lens is equi-convex, $c_2 = -c_1$. Therefore,"
     ]
    },
    {
     "cell_type": "code",
     "collapsed": false,
     "input": [
      "n = 1.516824  # index of refraction\n",
      "f = 400.0\n",
      "c = 1.0/(2.0*(n-1)*f)\n",
      "print(\"c_1 = \", c , \"mm-1\")\n",
      "print(\"c_2 = \", -c, \"mm-1\")"
     ],
     "language": "python",
     "metadata": {},
     "outputs": [
      {
       "output_type": "stream",
       "stream": "stdout",
       "text": [
        "c_1 =  0.00241861833042 mm-1\n",
        "c_2 =  -0.00241861833042 mm-1\n"
       ]
      }
     ],
     "prompt_number": 3
    },
    {
     "cell_type": "heading",
     "level": 4,
     "metadata": {},
     "source": [
      "(d) Radius of curvatures $R_1$ and $R_2$"
     ]
    },
    {
     "cell_type": "code",
     "collapsed": false,
     "input": [
      "print(\"R_1 = \", 1/c , \"mm\")\n",
      "print(\"R_2 = \", -1/c, \"mm\")"
     ],
     "language": "python",
     "metadata": {},
     "outputs": [
      {
       "output_type": "stream",
       "stream": "stdout",
       "text": [
        "R_1 =  413.4592 mm\n",
        "R_2 =  -413.4592 mm\n"
       ]
      }
     ],
     "prompt_number": 4
    },
    {
     "cell_type": "heading",
     "level": 4,
     "metadata": {},
     "source": [
      "(e) Format size, assuming square"
     ]
    },
    {
     "cell_type": "markdown",
     "metadata": {},
     "source": [
      "Since this is a thin lens, the angle of exitance for the principal ray (chief ray angle $\\bar{u}$) is equal to the angle of entrance $\\bar{u} \\, '$. Therefore\n",
      "\n",
      "$$\n",
      "y_1 = f \\times tan \\left(\\bar{u} \\,'\\right) \n",
      "$$"
     ]
    },
    {
     "cell_type": "code",
     "collapsed": false,
     "input": [
      "import numpy as np\n",
      "y1 = f*np.tan(np.deg2rad(5.0))\n",
      "print(\"y1: \", y1, \"mm\")"
     ],
     "language": "python",
     "metadata": {},
     "outputs": [
      {
       "output_type": "stream",
       "stream": "stdout",
       "text": [
        "y1:  34.9954654104 mm\n"
       ]
      }
     ],
     "prompt_number": 6
    },
    {
     "cell_type": "heading",
     "level": 4,
     "metadata": {},
     "source": [
      "(f) Airy disk diameter"
     ]
    },
    {
     "cell_type": "code",
     "collapsed": false,
     "input": [
      "wavelength = 0.587  # microns\n",
      "N = 10\n",
      "spot_size = 2.44*wavelength*N\n",
      "print(\"Airy disk diameter = \", spot_size, \" microns\")"
     ],
     "language": "python",
     "metadata": {},
     "outputs": [
      {
       "output_type": "stream",
       "stream": "stdout",
       "text": [
        "Airy disk diameter =  14.3228  microns\n"
       ]
      }
     ],
     "prompt_number": 7
    },
    {
     "cell_type": "code",
     "collapsed": false,
     "input": [],
     "language": "python",
     "metadata": {},
     "outputs": []
    }
   ],
   "metadata": {}
  }
 ]
}