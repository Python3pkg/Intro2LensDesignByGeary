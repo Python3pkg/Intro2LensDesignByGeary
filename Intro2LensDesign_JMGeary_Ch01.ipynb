{
 "metadata": {
  "name": "",
  "signature": "sha256:914e711a70af4928b5e965b7e3630fcd09f0c96543d4908a31ecf078c598478b"
 },
 "nbformat": 3,
 "nbformat_minor": 0,
 "worksheets": [
  {
   "cells": [
    {
     "cell_type": "heading",
     "level": 1,
     "metadata": {},
     "source": [
      "Chapter 01"
     ]
    },
    {
     "cell_type": "heading",
     "level": 2,
     "metadata": {},
     "source": [
      "Section 1.3 (Homework)"
     ]
    },
    {
     "cell_type": "heading",
     "level": 4,
     "metadata": {},
     "source": [
      "(a).  Effective focal length (EFL)"
     ]
    },
    {
     "cell_type": "markdown",
     "metadata": {},
     "source": [
      "Let $r$ be the semi-diameter of the lens. Then, from the figure, $r = 200$ mm. Also, since the f/# for the marginal ray converging at the focal point (for $U=0 ^o$) is 10:\n",
      "\n",
      "$$\n",
      "\\frac{f}{2 r} = 10 = \\frac{f}{40} \\implies f = 400 mm \n",
      "$$"
     ]
    },
    {
     "cell_type": "heading",
     "level": 4,
     "metadata": {},
     "source": [
      "(b) Lens power, $\\phi$"
     ]
    },
    {
     "cell_type": "markdown",
     "metadata": {},
     "source": [
      "Optical power, $\\phi = \\frac{n}{f} = \\frac{n'}{f'}$"
     ]
    },
    {
     "cell_type": "code",
     "collapsed": false,
     "input": [
      "from __future__ import print_function\n",
      "phi = 1.0/400 #  phi = 1.0/f\n",
      "print(phi, \"mm-1\")"
     ],
     "language": "python",
     "metadata": {},
     "outputs": [
      {
       "output_type": "stream",
       "stream": "stdout",
       "text": [
        "0.0025 mm-1\n"
       ]
      }
     ],
     "prompt_number": 2
    },
    {
     "cell_type": "heading",
     "level": 4,
     "metadata": {},
     "source": [
      "(c) Surface curvatures $C_1$ and $C_2$ (assume equiconvex)"
     ]
    },
    {
     "cell_type": "markdown",
     "metadata": {},
     "source": [
      "Under paraxial assumption,\n",
      "\n",
      "$$\n",
      "\\begin{array}{ll}\n",
      "\\frac{1}{f} &= (n-1)\\left(\\frac{1}{R_1} - \\frac{1}{R_2}\\right) \\\\\n",
      "&=(n-1)(C_1 - C_2)\n",
      "\\end{array}\n",
      "$$\n",
      "\n",
      "Since the lens is equi-convex, $C_2 = -C_1$. Therefore,"
     ]
    },
    {
     "cell_type": "code",
     "collapsed": false,
     "input": [
      "n = 1.516824  # index of refraction\n",
      "f = 400.0\n",
      "C = 1.0/(2.0*(n-1)*f)\n",
      "print(\"C_1 = \", C , \"mm-1\")\n",
      "print(\"C_2 = \", -C, \"mm-1\")"
     ],
     "language": "python",
     "metadata": {},
     "outputs": [
      {
       "output_type": "stream",
       "stream": "stdout",
       "text": [
        "C_1 =  0.00241861833042 mm-1\n",
        "C_2 =  -0.00241861833042 mm-1\n"
       ]
      }
     ],
     "prompt_number": 3
    },
    {
     "cell_type": "heading",
     "level": 4,
     "metadata": {},
     "source": [
      "(d) Radius of curvatures $R_1$ and $R_2$"
     ]
    },
    {
     "cell_type": "code",
     "collapsed": false,
     "input": [
      "print(\"R_1 = \", 1/C , \"mm\")\n",
      "print(\"R_2 = \", -1/C, \"mm\")"
     ],
     "language": "python",
     "metadata": {},
     "outputs": [
      {
       "output_type": "stream",
       "stream": "stdout",
       "text": [
        "R_1 =  413.4592 mm\n",
        "R_2 =  -413.4592 mm\n"
       ]
      }
     ],
     "prompt_number": 4
    },
    {
     "cell_type": "heading",
     "level": 4,
     "metadata": {},
     "source": [
      "(e) Format size, assuming square"
     ]
    },
    {
     "cell_type": "markdown",
     "metadata": {},
     "source": [
      "Since this is a thin lens, the angle of exitance for the principal ray (chief ray angle $\\bar{u}$) is equal to the angle of entrance $\\bar{u} \\, '$. Therefore\n",
      "\n",
      "$$\n",
      "y_1 = f \\times tan \\left(\\bar{u} \\,'\\right) \n",
      "$$"
     ]
    },
    {
     "cell_type": "code",
     "collapsed": false,
     "input": [
      "import numpy as np\n",
      "y1 = f*np.tan(np.deg2rad(5.0))\n",
      "print(\"y1: \", y1, \"mm\")"
     ],
     "language": "python",
     "metadata": {},
     "outputs": [
      {
       "output_type": "stream",
       "stream": "stdout",
       "text": [
        "y1:  34.9954654104 mm\n"
       ]
      }
     ],
     "prompt_number": 6
    },
    {
     "cell_type": "heading",
     "level": 4,
     "metadata": {},
     "source": [
      "(f) Airy disk diameter"
     ]
    },
    {
     "cell_type": "code",
     "collapsed": false,
     "input": [
      "wavelength = 0.587  # microns\n",
      "N = 10\n",
      "spot_size = 2.44*wavelength*N\n",
      "print(\"Airy disk diameter = \", spot_size, \" microns\")"
     ],
     "language": "python",
     "metadata": {},
     "outputs": [
      {
       "output_type": "stream",
       "stream": "stdout",
       "text": [
        "Airy disk diameter =  14.3228  microns\n"
       ]
      }
     ],
     "prompt_number": 7
    },
    {
     "cell_type": "code",
     "collapsed": false,
     "input": [],
     "language": "python",
     "metadata": {},
     "outputs": []
    }
   ],
   "metadata": {}
  }
 ]
}