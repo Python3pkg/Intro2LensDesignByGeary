{
 "metadata": {
  "name": "",
  "signature": "sha256:9524658889aa433333ebf72cd0beefa7f56c54964463f5773cb15d8838756593"
 },
 "nbformat": 3,
 "nbformat_minor": 0,
 "worksheets": [
  {
   "cells": [
    {
     "cell_type": "heading",
     "level": 1,
     "metadata": {},
     "source": [
      "Chapter 04: Paraxial world"
     ]
    },
    {
     "cell_type": "heading",
     "level": 2,
     "metadata": {},
     "source": [
      "Two types of ray tracing"
     ]
    },
    {
     "cell_type": "markdown",
     "metadata": {},
     "source": [
      "1. Real ray tracing\n",
      "    * actual, non-linear Snell's law; i.e. $n_1 sin \\theta_1 = n_2 sin \\theta_2$\n",
      "    * ray intersection with curved surfaces\n",
      "2. Paraxial ray tracing\n",
      "    * linear approximation to Snell's law; i.e. $n_1 \\theta_1 = n_2  \\theta_2$\n",
      "    * slope of the rays ($u = tan U$) approximated as angle of the rays w.r.t. optical axis ($U$). i.e. $u = U$\n",
      "    * use Paraxial Ray Trace Equations (PRTE)\n",
      "    * surfaces do not have curvature, but have power (to bend rays)\n",
      "\n",
      "\n",
      "Note:\n",
      "\n",
      "In Zemax, there is also the \"**parabasal rays**\" which are real rays that are very close to the optical axis just like the paraxial rays, but are traced using the non-linear Snell's law [1].\n",
      "\n",
      "[1] *Understanding Paraxial ray-tracing, Mark Nicholson, July 21, 2005.*"
     ]
    },
    {
     "cell_type": "heading",
     "level": 2,
     "metadata": {},
     "source": [
      "Usefulness of paraxial ray tracing"
     ]
    },
    {
     "cell_type": "markdown",
     "metadata": {},
     "source": [
      "* Used for calculation of first-order optical parameters\n",
      "    * Effective Focal Length (EFL)\n",
      "    * Back Focal Length (BFL)\n",
      "    * Paraxial working F-number\n",
      "    * Image space and object space numerical apertures\n",
      "    * Magnification \n",
      "    * Principal plane locations\n",
      "    * Pupil locations\n",
      "    * Image location\n",
      "    * Seidel aberration coefficients\n",
      "    \n",
      "Note:\n",
      "\n",
      "Zemax also reports image space F/# and working F/#. The image space F/# is the ratio of the EFL and EPD and is equal to the paraxial working F-number only when the object is at infinity. "
     ]
    },
    {
     "cell_type": "heading",
     "level": 2,
     "metadata": {},
     "source": [
      "Paraxial Ray Trace Equations"
     ]
    },
    {
     "cell_type": "markdown",
     "metadata": {},
     "source": [
      "The PRTE are a pair of linear equations:\n",
      "\n",
      "$\n",
      "\\begin{eqnarray}\n",
      "\\text{PRTE 1}: & n' u' &= nu - y  (n' - n)C = nu - y \\phi\\\\\\\n",
      "\\text{PRTE 2}: & y_{j+1} &= y_j + u't \n",
      "\\end{eqnarray}\n",
      "$\n",
      "\n",
      "where, \n",
      "\n",
      "* $n$ is the index to the left of the surface,\n",
      "* $n'$ is the index to the right of the surface,\n",
      "* $U$ is the ray angle to the left of the surface, \n",
      "* $U'$ is the ray angle to the right of the surface, \n",
      "* $u = tan U $, \n",
      "* $u' = tan U' $, \n",
      "* $\\phi = (n' - n)C$ is the optical power of a single refracting surface.\n",
      "\n",
      "PRTE 1 is eqivalent to the Gaussian formula for thin lenses."
     ]
    },
    {
     "cell_type": "markdown",
     "metadata": {},
     "source": [
      "Example problem:"
     ]
    },
    {
     "cell_type": "code",
     "collapsed": false,
     "input": [
      "class prte(object):\n",
      "    def __init__(self, phi, t, n1=1.0, n2=1.0):\n",
      "        self._phi = phi\n",
      "        self._t = t\n",
      "        self._n1 = n1\n",
      "        self._n2 = n2\n",
      "    def trace(self, y1, u1):\n",
      "        u2 = (1/self._n1)*(self._n1*u1 - y1*self._phi)\n",
      "        y2 = y1 + u2*self._t\n",
      "        return (y2, u2)"
     ],
     "language": "python",
     "metadata": {},
     "outputs": [],
     "prompt_number": 43
    },
    {
     "cell_type": "code",
     "collapsed": false,
     "input": [
      "sur1 = prte(0, 25)\n",
      "sur2 = prte(0.05, 100)\n",
      "y2, u2 = sur1.trace(0, 1.0/5)\n",
      "y3, u3 = sur2.trace(y2, u2)\n",
      "y3, u3"
     ],
     "language": "python",
     "metadata": {},
     "outputs": [
      {
       "metadata": {},
       "output_type": "pyout",
       "prompt_number": 44,
       "text": [
        "(8.881784197001252e-16, -0.04999999999999999)"
       ]
      }
     ],
     "prompt_number": 44
    },
    {
     "cell_type": "heading",
     "level": 2,
     "metadata": {},
     "source": [
      "Important Power Equations using Ray Transfer matrix"
     ]
    },
    {
     "cell_type": "markdown",
     "metadata": {},
     "source": [
      "We can represent the PRTE equations using Ray Transfer Matrices (RTM). Since SymPy has a nice (symbolic) representation of RTMs, we will use it here. \n",
      "\n",
      "Note that the following sections use \"P\" for power instead of $\\phi$, as it will be easy to write in the code."
     ]
    },
    {
     "cell_type": "code",
     "collapsed": false,
     "input": [
      "from IPython.display import Image\n",
      "Image(filename='.\\\\images\\\\fig_04_01_PTRE12.png') "
     ],
     "language": "python",
     "metadata": {},
     "outputs": [
      {
       "metadata": {},
       "output_type": "pyout",
       "png": "[encoded data removed]",
       "prompt_number": 45,
       "text": [
        "<IPython.core.display.Image at 0x6c194e0>"
       ]
      }
     ],
     "prompt_number": 45
    },
    {
     "cell_type": "markdown",
     "metadata": {},
     "source": [
      "The two PRTE equations can be represented using matrix notation as follows:\n",
      "\n",
      "The PRTE 1, which represents the ray bending at a power surface, can be broken down into two equations for the height and the angle of the ray at the intersection of the surface:\n",
      "\n",
      "$y_2 = y_1$; \n",
      "\n",
      "$u_2 = \\frac{n_1}{n_2}u_1 - \\frac{y_1}{n_2}P$\n",
      "\n",
      "We can represent the above in matrix form as:\n",
      "\n",
      "$\n",
      "\\left [\\begin{array}{c}\n",
      "y_2 \\\\\\  u_2\n",
      "\\end{array}\\right]\n",
      "= \\left[\\begin{array}{rr}\n",
      "1       &  0 \\\\\\\n",
      "-\\frac{P}{n_2}  & \\frac{n_1}{n_2} \n",
      "\\end{array}\\right]\n",
      "\\left[\\begin{array}{c}\n",
      "y_1 \\\\\\ u_1\n",
      "\\end{array} \\right]\n",
      "$\n",
      "\n",
      "\n",
      "Similarly, the PRTE 2, which represents the ray transfer to the next optical surface, can be broken down into two equations:\n",
      "\n",
      "$y_2 = y_1 + u_1 t$;\n",
      "\n",
      "$u_2 = u_1$\n",
      "\n",
      "and in matrix form:\n",
      "\n",
      "$\n",
      "\\left [\\begin{array}{c}\n",
      "y_2 \\\\\\  u_2\n",
      "\\end{array}\\right]\n",
      "= \\left[\\begin{array}{cc}\n",
      "1  &  t \\\\\\\n",
      "0  &  1 \n",
      "\\end{array}\\right]\n",
      "\\left[\\begin{array}{c}\n",
      "y_1 \\\\\\ u_1\n",
      "\\end{array} \\right]\n",
      "$\n",
      "\n",
      "The two equations can then be combined into a single RTM by cascading the to RTMs, keeping in mind that a ray of light interacts with the ray-bending matrix first and then with the ray transfer matrix.\n",
      "\n",
      "$\n",
      "\\left [\\begin{array}{c}\n",
      "y_2 \\\\\\  u_2\n",
      "\\end{array}\\right]\n",
      "= \n",
      "\\left[\\begin{array}{cc}\n",
      "1  &  t \\\\\\\n",
      "0  &  1 \n",
      "\\end{array}\\right]\n",
      "\\left[\\begin{array}{rr}\n",
      "1       &  0 \\\\\\\n",
      "-\\frac{P}{n_2}  & \\frac{n_1}{n_2} \n",
      "\\end{array}\\right]\n",
      "\\left[\\begin{array}{c}\n",
      "y_1 \\\\\\ u_1\n",
      "\\end{array} \\right]\n",
      "$"
     ]
    },
    {
     "cell_type": "markdown",
     "metadata": {},
     "source": [
      "The combined PRTE matrix is shown below:\n",
      "\n",
      "$\n",
      "\\left [\\begin{array}{c}\n",
      "y_2 \\\\\\  u_2\n",
      "\\end{array}\\right]\n",
      "= \\left[\\begin{array}{lr}\n",
      "1 - \\frac{1}{n_2}P t  &  \\frac{n_1}{n_2} t \\\\\\\n",
      "  - \\frac{1}{n_2}P    &  \\frac{n_1}{n_2} \n",
      "\\end{array}\\right]\n",
      "\\left[\\begin{array}{c}\n",
      "y_1 \\\\\\ u_1\n",
      "\\end{array} \\right]\n",
      "$"
     ]
    },
    {
     "cell_type": "code",
     "collapsed": false,
     "input": [
      "import sympy as sy\n",
      "try:\n",
      "    from sympy.physics.optics.gaussopt import RayTransferMatrix, GeometricRay\n",
      "except ImportError: # prior to version 0.7.6\n",
      "    from sympy.physics.gaussopt import RayTransferMatrix, GeometricRay\n",
      "sy.init_printing(use_latex='mathjax', print_builtin=False)"
     ],
     "language": "python",
     "metadata": {},
     "outputs": [],
     "prompt_number": 46
    },
    {
     "cell_type": "code",
     "collapsed": false,
     "input": [
      "class PRTE1(RayTransferMatrix):\n",
      "    \"\"\"\n",
      "    Ray Transfer Matrix representation of PRTE1.\n",
      "\n",
      "    Parameters\n",
      "    ----------\n",
      "    P : Power of the surface\n",
      "    n1 : refractive index of medium on left\n",
      "    n2 : refractive index of medium on right\n",
      "\n",
      "    Examples\n",
      "    --------\n",
      "    >>> P, n1, n2 = symbols('P n1 n2')\n",
      "    >>> PRTE1(P, n1, n2)\n",
      "    Matrix([\n",
      "    [    1,     0],\n",
      "    [-P*n2, n1/n2]])\n",
      "    \"\"\"\n",
      "    def __new__(cls, P, n1, n2):\n",
      "        P, n1, n2 = map(sy.sympify, (P, n1, n2))\n",
      "        return RayTransferMatrix.__new__(cls, 1, 0, -P/n2, n1/n2)\n",
      "    \n",
      "class PRTE2(RayTransferMatrix):\n",
      "    \"\"\"\n",
      "    Ray Transfer Matrix representation of PRTE2\n",
      "\n",
      "    Parameters\n",
      "    ----------\n",
      "    t : distance\n",
      "\n",
      "\n",
      "    Examples\n",
      "    --------\n",
      "    >>> t = symbols('t')\n",
      "    >>> PRTE2(t)\n",
      "    Matrix([\n",
      "    [1, t],\n",
      "    [0, 1]])\n",
      "    \"\"\"\n",
      "    def __new__(cls, t):\n",
      "        return RayTransferMatrix.__new__(cls, 1, t, 0, 1)\n",
      "    \n",
      "class PRTE(RayTransferMatrix):\n",
      "    \"\"\"\n",
      "    Ray Transfer Matrix representation of PRTE.\n",
      "\n",
      "    Parameters\n",
      "    ----------\n",
      "    P : power of the surface\n",
      "    t : thickness\n",
      "    n1 : refractive index of medium on left\n",
      "    n2 : refractive index of medium on right\n",
      "\n",
      "    Examples\n",
      "    --------\n",
      "    >>> P, t, n1, n2 = symbols('P t n_1 n_2')\n",
      "    >>> PRTE(P, t, n1, n2)\n",
      "    Matrix([\n",
      "    [1 - t*P/n2,  t*n1/n2],\n",
      "    [     -P*n2,    n1/n2]])\n",
      "    \"\"\"\n",
      "    def __new__(cls, P, t, n1, n2):\n",
      "        P, n1, n2 = map(sy.sympify, (P, n1, n2))\n",
      "        return RayTransferMatrix.__new__(cls, 1 - t*P/n2, t*n1/n2, -P/n2, n1/n2)"
     ],
     "language": "python",
     "metadata": {},
     "outputs": [],
     "prompt_number": 47
    },
    {
     "cell_type": "heading",
     "level": 3,
     "metadata": {},
     "source": [
      "Two-Element System"
     ]
    },
    {
     "cell_type": "code",
     "collapsed": false,
     "input": [
      "P1, P2, t, b, n, y1 = sy.symbols('P1 P2 t b n y1')\n",
      "input_ray = GeometricRay(y1, 0)\n",
      "\n",
      "m1 = PRTE(P1, t, 1, n)\n",
      "m2 = PRTE(P2, b, n, 1)\n",
      "m = m2*m1\n",
      "y_out, u_out = m*input_ray "
     ],
     "language": "python",
     "metadata": {},
     "outputs": [],
     "prompt_number": 48
    },
    {
     "cell_type": "markdown",
     "metadata": {},
     "source": [
      "The ray transfer matrix of the two-element system is "
     ]
    },
    {
     "cell_type": "code",
     "collapsed": false,
     "input": [
      "m"
     ],
     "language": "python",
     "metadata": {},
     "outputs": [
      {
       "latex": [
        "$$\\left[\\begin{matrix}- P_{1} b + \\left(- P_{2} b + 1\\right) \\left(- \\frac{P_{1} t}{n} + 1\\right) & b + \\frac{t}{n} \\left(- P_{2} b + 1\\right)\\\\- P_{1} - P_{2} \\left(- \\frac{P_{1} t}{n} + 1\\right) & - \\frac{P_{2} t}{n} + 1\\end{matrix}\\right]$$"
       ],
       "metadata": {},
       "output_type": "pyout",
       "prompt_number": 49,
       "text": [
        "\u23a1                    \u239b  P\u2081\u22c5t    \u239e      t\u22c5(-P\u2082\u22c5b + 1)\u23a4\n",
        "\u23a2-P\u2081\u22c5b + (-P\u2082\u22c5b + 1)\u22c5\u239c- \u2500\u2500\u2500\u2500 + 1\u239f  b + \u2500\u2500\u2500\u2500\u2500\u2500\u2500\u2500\u2500\u2500\u2500\u2500\u2500\u23a5\n",
        "\u23a2                    \u239d   n      \u23a0            n      \u23a5\n",
        "\u23a2                                                   \u23a5\n",
        "\u23a2              \u239b  P\u2081\u22c5t    \u239e             P\u2082\u22c5t        \u23a5\n",
        "\u23a2     -P\u2081 - P\u2082\u22c5\u239c- \u2500\u2500\u2500\u2500 + 1\u239f           - \u2500\u2500\u2500\u2500 + 1    \u23a5\n",
        "\u23a3              \u239d   n      \u23a0              n          \u23a6"
       ]
      }
     ],
     "prompt_number": 49
    },
    {
     "cell_type": "markdown",
     "metadata": {},
     "source": [
      "The angle and height of the output ray is given as:"
     ]
    },
    {
     "cell_type": "code",
     "collapsed": false,
     "input": [
      "u_out"
     ],
     "language": "python",
     "metadata": {},
     "outputs": [
      {
       "latex": [
        "$$y_{1} \\left(- P_{1} - P_{2} \\left(- \\frac{P_{1} t}{n} + 1\\right)\\right)$$"
       ],
       "metadata": {},
       "output_type": "pyout",
       "prompt_number": 50,
       "text": [
        "   \u239b         \u239b  P\u2081\u22c5t    \u239e\u239e\n",
        "y\u2081\u22c5\u239c-P\u2081 - P\u2082\u22c5\u239c- \u2500\u2500\u2500\u2500 + 1\u239f\u239f\n",
        "   \u239d         \u239d   n      \u23a0\u23a0"
       ]
      }
     ],
     "prompt_number": 50
    },
    {
     "cell_type": "code",
     "collapsed": false,
     "input": [
      "y_out"
     ],
     "language": "python",
     "metadata": {},
     "outputs": [
      {
       "latex": [
        "$$y_{1} \\left(- P_{1} b + \\left(- P_{2} b + 1\\right) \\left(- \\frac{P_{1} t}{n} + 1\\right)\\right)$$"
       ],
       "metadata": {},
       "output_type": "pyout",
       "prompt_number": 51,
       "text": [
        "   \u239b                    \u239b  P\u2081\u22c5t    \u239e\u239e\n",
        "y\u2081\u22c5\u239c-P\u2081\u22c5b + (-P\u2082\u22c5b + 1)\u22c5\u239c- \u2500\u2500\u2500\u2500 + 1\u239f\u239f\n",
        "   \u239d                    \u239d   n      \u23a0\u23a0"
       ]
      }
     ],
     "prompt_number": 51
    },
    {
     "cell_type": "heading",
     "level": 6,
     "metadata": {},
     "source": [
      "The Back-Focal Length"
     ]
    },
    {
     "cell_type": "code",
     "collapsed": false,
     "input": [
      "bfl = sy.solve(y_out, b)"
     ],
     "language": "python",
     "metadata": {},
     "outputs": [],
     "prompt_number": 52
    },
    {
     "cell_type": "code",
     "collapsed": false,
     "input": [
      "bfl"
     ],
     "language": "python",
     "metadata": {},
     "outputs": [
      {
       "latex": [
        "$$\\begin{bmatrix}\\frac{- P_{1} t + n}{- P_{1} P_{2} t + P_{1} n + P_{2} n}\\end{bmatrix}$$"
       ],
       "metadata": {},
       "output_type": "pyout",
       "prompt_number": 53,
       "text": [
        "\u23a1      -P\u2081\u22c5t + n       \u23a4\n",
        "\u23a2\u2500\u2500\u2500\u2500\u2500\u2500\u2500\u2500\u2500\u2500\u2500\u2500\u2500\u2500\u2500\u2500\u2500\u2500\u2500\u2500\u2500\u2500\u23a5\n",
        "\u23a3-P\u2081\u22c5P\u2082\u22c5t + P\u2081\u22c5n + P\u2082\u22c5n\u23a6"
       ]
      }
     ],
     "prompt_number": 53
    },
    {
     "cell_type": "heading",
     "level": 6,
     "metadata": {},
     "source": [
      "The Effective Focal Length"
     ]
    },
    {
     "cell_type": "code",
     "collapsed": false,
     "input": [
      "efl = -y1/u_out"
     ],
     "language": "python",
     "metadata": {},
     "outputs": [],
     "prompt_number": 54
    },
    {
     "cell_type": "code",
     "collapsed": false,
     "input": [
      "efl"
     ],
     "language": "python",
     "metadata": {},
     "outputs": [
      {
       "latex": [
        "$$- \\frac{1}{- P_{1} - P_{2} \\left(- \\frac{P_{1} t}{n} + 1\\right)}$$"
       ],
       "metadata": {},
       "output_type": "pyout",
       "prompt_number": 55,
       "text": [
        "         -1          \n",
        "\u2500\u2500\u2500\u2500\u2500\u2500\u2500\u2500\u2500\u2500\u2500\u2500\u2500\u2500\u2500\u2500\u2500\u2500\u2500\u2500\u2500\n",
        "         \u239b  P\u2081\u22c5t    \u239e\n",
        "-P\u2081 - P\u2082\u22c5\u239c- \u2500\u2500\u2500\u2500 + 1\u239f\n",
        "         \u239d   n      \u23a0"
       ]
      }
     ],
     "prompt_number": 55
    },
    {
     "cell_type": "code",
     "collapsed": false,
     "input": [
      "p_sys = 1/efl  # power = 1/EFL"
     ],
     "language": "python",
     "metadata": {},
     "outputs": [],
     "prompt_number": 56
    },
    {
     "cell_type": "code",
     "collapsed": false,
     "input": [
      "p_sys"
     ],
     "language": "python",
     "metadata": {},
     "outputs": [
      {
       "latex": [
        "$$P_{1} + P_{2} \\left(- \\frac{P_{1} t}{n} + 1\\right)$$"
       ],
       "metadata": {},
       "output_type": "pyout",
       "prompt_number": 57,
       "text": [
        "        \u239b  P\u2081\u22c5t    \u239e\n",
        "P\u2081 + P\u2082\u22c5\u239c- \u2500\u2500\u2500\u2500 + 1\u239f\n",
        "        \u239d   n      \u23a0"
       ]
      }
     ],
     "prompt_number": 57
    },
    {
     "cell_type": "markdown",
     "metadata": {},
     "source": [
      "The above expression for power of the two element system can be re-written as:\n",
      "\n",
      "$\n",
      "P = \\left[P_1 + P_2 -\\frac{t}{n} P_1 P_2  \\right] = \\frac{1}{EFL}\n",
      "$"
     ]
    },
    {
     "cell_type": "code",
     "collapsed": false,
     "input": [
      "efl = 1/(P1 + P2 -t*P1*P2/n)"
     ],
     "language": "python",
     "metadata": {},
     "outputs": [],
     "prompt_number": 58
    },
    {
     "cell_type": "code",
     "collapsed": false,
     "input": [
      "efl"
     ],
     "language": "python",
     "metadata": {},
     "outputs": [
      {
       "latex": [
        "$$\\frac{1}{- \\frac{P_{1} P_{2}}{n} t + P_{1} + P_{2}}$$"
       ],
       "metadata": {},
       "output_type": "pyout",
       "prompt_number": 59,
       "text": [
        "         1         \n",
        "\u2500\u2500\u2500\u2500\u2500\u2500\u2500\u2500\u2500\u2500\u2500\u2500\u2500\u2500\u2500\u2500\u2500\u2500\u2500\n",
        "  P\u2081\u22c5P\u2082\u22c5t          \n",
        "- \u2500\u2500\u2500\u2500\u2500\u2500\u2500 + P\u2081 + P\u2082\n",
        "     n             "
       ]
      }
     ],
     "prompt_number": 59
    },
    {
     "cell_type": "code",
     "collapsed": false,
     "input": [
      "bfl = (1 - P1*t/n)/(P1 + P2 - P1*P2*t/n)"
     ],
     "language": "python",
     "metadata": {},
     "outputs": [],
     "prompt_number": 60
    },
    {
     "cell_type": "code",
     "collapsed": false,
     "input": [
      "bfl"
     ],
     "language": "python",
     "metadata": {},
     "outputs": [
      {
       "latex": [
        "$$\\frac{- \\frac{P_{1} t}{n} + 1}{- \\frac{P_{1} P_{2}}{n} t + P_{1} + P_{2}}$$"
       ],
       "metadata": {},
       "output_type": "pyout",
       "prompt_number": 61,
       "text": [
        "       P\u2081\u22c5t        \n",
        "     - \u2500\u2500\u2500\u2500 + 1    \n",
        "        n          \n",
        "\u2500\u2500\u2500\u2500\u2500\u2500\u2500\u2500\u2500\u2500\u2500\u2500\u2500\u2500\u2500\u2500\u2500\u2500\u2500\n",
        "  P\u2081\u22c5P\u2082\u22c5t          \n",
        "- \u2500\u2500\u2500\u2500\u2500\u2500\u2500 + P\u2081 + P\u2082\n",
        "     n             "
       ]
      }
     ],
     "prompt_number": 61
    },
    {
     "cell_type": "code",
     "collapsed": false,
     "input": [
      "sy.simplify(efl - bfl)"
     ],
     "language": "python",
     "metadata": {},
     "outputs": [
      {
       "latex": [
        "$$\\frac{P_{1} t}{- P_{1} P_{2} t + n \\left(P_{1} + P_{2}\\right)}$$"
       ],
       "metadata": {},
       "output_type": "pyout",
       "prompt_number": 62,
       "text": [
        "         P\u2081\u22c5t         \n",
        "\u2500\u2500\u2500\u2500\u2500\u2500\u2500\u2500\u2500\u2500\u2500\u2500\u2500\u2500\u2500\u2500\u2500\u2500\u2500\u2500\u2500\u2500\n",
        "-P\u2081\u22c5P\u2082\u22c5t + n\u22c5(P\u2081 + P\u2082)"
       ]
      }
     ],
     "prompt_number": 62
    },
    {
     "cell_type": "markdown",
     "metadata": {},
     "source": [
      "The above expression reduces to \n",
      "\n",
      "\n",
      "$\n",
      "\\delta' = \\frac{t}{n}\\frac{P_1}{P_1 + P_2 - \\frac{t}{n} P_1 P_2} = \\frac{t}{n} \\frac{P_1}{P}\n",
      "$"
     ]
    },
    {
     "cell_type": "code",
     "collapsed": false,
     "input": [],
     "language": "python",
     "metadata": {},
     "outputs": []
    }
   ],
   "metadata": {}
  }
 ]
}