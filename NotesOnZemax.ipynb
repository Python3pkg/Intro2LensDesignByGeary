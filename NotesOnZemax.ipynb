{
 "metadata": {
  "name": "",
  "signature": "sha256:13f19edf420996250ed4643d80431a3950b2482d68b963c5359aa2f11ceafc86"
 },
 "nbformat": 3,
 "nbformat_minor": 0,
 "worksheets": [
  {
   "cells": [
    {
     "cell_type": "heading",
     "level": 1,
     "metadata": {},
     "source": [
      "General notes on Zemax"
     ]
    },
    {
     "cell_type": "heading",
     "level": 3,
     "metadata": {},
     "source": [
      "Use of Snell's Law in Zemax"
     ]
    },
    {
     "cell_type": "markdown",
     "metadata": {},
     "source": [
      "* Zemax always use the full Snell's law i.e. $n_1 sin \\theta_1 = n_2 sin \\theta_2$ for real ray-tracing (and not the linear approximation).\n",
      "* Zemax uses the linear approximation ($n_1 \\theta_1 = n_2 \\theta_2$) to calculate paraxial quantities such as focal length, pupil plane locations and sizes, system magnification, etc. These are also known as first-order or paraxial approximations.\n",
      "* Zemax uses the third order approximations to characterize common aberrations."
     ]
    },
    {
     "cell_type": "code",
     "collapsed": false,
     "input": [],
     "language": "python",
     "metadata": {},
     "outputs": []
    }
   ],
   "metadata": {}
  }
 ]
}