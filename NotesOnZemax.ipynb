{
 "metadata": {
  "name": "",
  "signature": "sha256:66898bb7512faba91a9838d1825ab7dafb5d2ece01eccbec2c839857187e71a7"
 },
 "nbformat": 3,
 "nbformat_minor": 0,
 "worksheets": [
  {
   "cells": [
    {
     "cell_type": "heading",
     "level": 1,
     "metadata": {},
     "source": [
      "General notes on Zemax"
     ]
    },
    {
     "cell_type": "heading",
     "level": 3,
     "metadata": {},
     "source": [
      "References:"
     ]
    },
    {
     "cell_type": "markdown",
     "metadata": {},
     "source": [
      "1. <a name=\"r1\"></a>Optical System Design Using Zemax, Material from Zemax Training.\n",
      "\n",
      "2. <a name=\"r2\"></a>[What is a ray? Ken Moore, Zemax Knowledgebase, 2005](https://www.zemax.com/support/knowledgebase/what-is-a-ray)"
     ]
    },
    {
     "cell_type": "heading",
     "level": 3,
     "metadata": {},
     "source": [
      "Use of Snell's Law in Zemax"
     ]
    },
    {
     "cell_type": "markdown",
     "metadata": {},
     "source": [
      "* Zemax always use the full Snell's law i.e. $n_1 sin \\theta_1 = n_2 sin \\theta_2$ for real ray-tracing (and not the linear approximation) [[1](#r1)]. In fact, it uses the vector form of the Snell's law: $n_1 (N\u00a0\\times\u00a0k_1) = n (N\u00a0\\times\u00a0k)$ where\u00a0$N$\u00a0is the unit normal vector of the surface at the point of intersection, and\u00a0$k$\u00a0is the ray direction cosine vector [[2](#r2)].\n",
      "* Zemax uses the linear approximation ($n_1 \\theta_1 = n_2 \\theta_2$) to calculate paraxial quantities such as focal length, pupil plane locations and sizes, system magnification, etc. These are also known as first-order or paraxial approximations.\n",
      "* Zemax uses the third order approximations to characterize common aberrations."
     ]
    },
    {
     "cell_type": "heading",
     "level": 3,
     "metadata": {},
     "source": [
      "Paraxial (first order) approximations in Zemax"
     ]
    },
    {
     "cell_type": "markdown",
     "metadata": {},
     "source": [
      "Zemax uses first order approximation (paraxial) to calculate the following parameters :\n",
      "\n",
      "* Optical power\n",
      "* Image locations\n",
      "* Magnifications\n",
      "* Effective focal length\n",
      "* Pupil locations and sizes\n",
      "* Aperture and F/#"
     ]
    },
    {
     "cell_type": "heading",
     "level": 3,
     "metadata": {},
     "source": [
      "Reference wavefront"
     ]
    },
    {
     "cell_type": "markdown",
     "metadata": {},
     "source": [
      "The ideal reference sphere is centered at the intersection of the chief-ray with the image surface [[2](#r2)]\n",
      "\n"
     ]
    },
    {
     "cell_type": "heading",
     "level": 3,
     "metadata": {},
     "source": [
      "Rules for using Coordinate Breaks manually"
     ]
    },
    {
     "cell_type": "markdown",
     "metadata": {},
     "source": [
      "1. Global vertex report: Before starting on CBs, open the prescriptio file and make/keep a note of the position/ vertices and orientation of all surfaces (especially the image surface).\n",
      "2. Pairs of CB: Almost all (with some exceptions) coordinate breaks are done in pairs -- first one for decentering and tilting and the second one for restoring the original axis. Note that the surfaces after the second CB, should retain their vertex positions and orientations as it was before CB was applied. \n",
      "3. Pick-up solves: It is recommended to use pick-up solves on the tilt and decenter parameters of the second CB by setting -1 scale factor to lock the second CB to the first. \n",
      "4. Co-locate the two coordinate breaks: \n",
      "    - Use a dummy surface just after the second CB. \n",
      "    - Use a position solve (on the thickness of the surface before the second CB) to track back through all the surfaces.\n",
      "    - Use a pickup solve (on the thickness of the second CB) to restore the second CB's position at the back of the lens. \n",
      "5. Order flag for compound tilts and decenters: If there are multiple tilts or mixture of tilt and decenter, set the order flag on the second CB to 1. This is important, as it will execute second CB in reverse order.\n",
      "6. General recommendation: Unless there is a special case or need (such as using single CB), use the Tilt/Decenter Element Tool provided by Zemax."
     ]
    },
    {
     "cell_type": "code",
     "collapsed": false,
     "input": [],
     "language": "python",
     "metadata": {},
     "outputs": []
    }
   ],
   "metadata": {}
  }
 ]
}